{
 "cells": [
  {
   "cell_type": "code",
   "execution_count": 1,
   "outputs": [],
   "source": [
    "import cv2\n",
    "import scipy.io as sio\n",
    "import os\n",
    "import math\n",
    "import numpy as np\n",
    "import pandas as pd\n",
    "import io\n",
    "from PIL import Image\n",
    "import copy\n",
    "import argparse\n",
    "import matplotlib.pyplot as plt\n",
    "import matplotlib.image as mpim\n",
    "\n",
    "from pathlib import Path\n",
    "from natsort import natsorted\n",
    "import glob"
   ],
   "metadata": {
    "collapsed": false
   }
  },
  {
   "cell_type": "code",
   "execution_count": 2,
   "outputs": [
    {
     "name": "stdout",
     "output_type": "stream",
     "text": [
      "Root Dir: /Users/hari/JKU/cv/compute_vision\n"
     ]
    }
   ],
   "source": [
    "root_dir = Path(os.getcwd()).parent\n",
    "print(f\"Root Dir: {root_dir}\")"
   ],
   "metadata": {
    "collapsed": false
   }
  },
  {
   "cell_type": "code",
   "execution_count": 3,
   "outputs": [
    {
     "name": "stdout",
     "output_type": "stream",
     "text": [
      "/Users/hari/JKU/cv/compute_vision/data/frame_not_annotated/\n"
     ]
    }
   ],
   "source": [
    "video_dir = os.path.join(root_dir, \"data/frame_not_annotated/\")\n",
    "print(video_dir)"
   ],
   "metadata": {
    "collapsed": false
   }
  },
  {
   "cell_type": "code",
   "execution_count": 4,
   "outputs": [],
   "source": [
    "class GetVideoFrame():\n",
    "    def __init__(self, image_folder):\n",
    "        self.image_frames = natsorted(glob.glob(os.path.join(image_folder, \"*\")))\n",
    "\n",
    "    @staticmethod\n",
    "    def open_image(img_path):\n",
    "        img = Image.open(img_path)\n",
    "        return img\n",
    "\n",
    "    def __getitem__(self, item):\n",
    "        image_list = natsorted(glob.glob(os.path.join(self.image_frames[item], \"*.png\")))\n",
    "        img_arr = [self.open_image(i) for i in image_list]\n",
    "        return np.stack(img_arr ,axis=0)"
   ],
   "metadata": {
    "collapsed": false
   }
  },
  {
   "cell_type": "code",
   "execution_count": 5,
   "outputs": [
    {
     "name": "stdout",
     "output_type": "stream",
     "text": [
      "[[[  0   0   0]\n",
      "  [  0   0   0]\n",
      "  [  0   0   0]\n",
      "  ...\n",
      "  [  0   0   0]\n",
      "  [  0   0   0]\n",
      "  [  0   0   0]]\n",
      "\n",
      " [[  0   0   0]\n",
      "  [  0   0   0]\n",
      "  [  0   0   0]\n",
      "  ...\n",
      "  [  0   0   0]\n",
      "  [  0   0   0]\n",
      "  [  0   0   0]]\n",
      "\n",
      " [[  0   0   0]\n",
      "  [  0   0   0]\n",
      "  [  0   0   0]\n",
      "  ...\n",
      "  [  0   0   0]\n",
      "  [  0   0   0]\n",
      "  [  0   0   0]]\n",
      "\n",
      " ...\n",
      "\n",
      " [[102 102 102]\n",
      "  [ 91  91  91]\n",
      "  [ 97  97  97]\n",
      "  ...\n",
      "  [ 30  30  30]\n",
      "  [ 26  26  26]\n",
      "  [ 27  27  27]]\n",
      "\n",
      " [[ 69  69  69]\n",
      "  [ 55  55  55]\n",
      "  [ 59  59  59]\n",
      "  ...\n",
      "  [ 31  31  31]\n",
      "  [ 33  33  33]\n",
      "  [ 33  33  33]]\n",
      "\n",
      " [[ 70  70  70]\n",
      "  [ 58  58  58]\n",
      "  [ 65  65  65]\n",
      "  ...\n",
      "  [ 25  25  25]\n",
      "  [ 24  24  24]\n",
      "  [ 19  19  19]]]\n"
     ]
    }
   ],
   "source": [
    "data = GetVideoFrame(video_dir)\n",
    "for i in data:\n",
    "    print(i[0])\n",
    "    break"
   ],
   "metadata": {
    "collapsed": false
   }
  },
  {
   "cell_type": "code",
   "execution_count": 6,
   "outputs": [],
   "source": [
    "while True:\n",
    "    x = np.array(i[0])\n",
    "    cv2.imshow('gray', x)\n",
    "    if cv2.waitKey(25) & 0xFF == ord('q'):\n",
    "          break"
   ],
   "metadata": {
    "collapsed": false
   }
  },
  {
   "cell_type": "code",
   "execution_count": null,
   "outputs": [],
   "source": [],
   "metadata": {
    "collapsed": false
   }
  }
 ],
 "metadata": {
  "kernelspec": {
   "display_name": "Python 3",
   "language": "python",
   "name": "python3"
  },
  "language_info": {
   "codemirror_mode": {
    "name": "ipython",
    "version": 2
   },
   "file_extension": ".py",
   "mimetype": "text/x-python",
   "name": "python",
   "nbconvert_exporter": "python",
   "pygments_lexer": "ipython2",
   "version": "2.7.6"
  }
 },
 "nbformat": 4,
 "nbformat_minor": 0
}
