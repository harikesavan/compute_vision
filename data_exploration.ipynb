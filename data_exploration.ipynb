{
 "cells": [
  {
   "cell_type": "code",
   "execution_count": 7,
   "metadata": {
    "collapsed": true
   },
   "outputs": [],
   "source": [
    "import os\n",
    "\n",
    "import cv2\n",
    "import matplotlib.pyplot as plt\n",
    "from pathlib import Path"
   ]
  },
  {
   "cell_type": "code",
   "execution_count": 24,
   "outputs": [],
   "source": [
    "data_path = Path(\"data_target_tracking\")\n",
    "video_path = data_path.glob(\"*.mp4\")\n",
    "video_files = [x for x in video_path if x.is_file()]"
   ],
   "metadata": {
    "collapsed": false
   }
  },
  {
   "cell_type": "code",
   "execution_count": 71,
   "outputs": [],
   "source": [
    "def extractImages(path_in: Path, path_out: str) -> None:\n",
    "    count = 0\n",
    "    vidcap = cv2.VideoCapture(str(path_in))\n",
    "    length = int(vidcap.get(cv2.CAP_PROP_FRAME_COUNT))\n",
    "    success, image = vidcap.read()\n",
    "    video_folder = os.path.join(path_out, path_in.stem)\n",
    "    Path(video_folder).mkdir(parents=True, exist_ok=True)\n",
    "    while True:\n",
    "        ret, frame = vidcap.read()\n",
    "        if not ret:\n",
    "            break\n",
    "        frame = frame[:, :, [2, 1, 0]]\n",
    "        cv2.imwrite(os.path.join(video_folder, f\"frame_{count}.jpg\"), frame)\n",
    "        count += 1\n",
    "    total_saved = len(os.listdir(video_folder))\n",
    "    print(f\"Total No Frames: {length}. {total_saved} frame saved ignored {length - total_saved}\")"
   ],
   "metadata": {
    "collapsed": false
   }
  },
  {
   "cell_type": "code",
   "execution_count": 72,
   "outputs": [
    {
     "name": "stdout",
     "output_type": "stream",
     "text": [
      "Total No Frames: 1323. 1322 frame saved ignored 1\n",
      "Total No Frames: 1786. 1785 frame saved ignored 1\n",
      "Total No Frames: 1445. 1444 frame saved ignored 1\n",
      "Total No Frames: 1360. 1359 frame saved ignored 1\n",
      "Total No Frames: 1752. 1751 frame saved ignored 1\n",
      "Total No Frames: 2414. 2413 frame saved ignored 1\n",
      "Total No Frames: 2091. 2090 frame saved ignored 1\n",
      "Total No Frames: 980. 979 frame saved ignored 1\n",
      "Total No Frames: 957. 956 frame saved ignored 1\n",
      "Total No Frames: 1815. 1814 frame saved ignored 1\n",
      "Total No Frames: 856. 855 frame saved ignored 1\n",
      "Total No Frames: 1832. 1831 frame saved ignored 1\n",
      "Total No Frames: 1442. 1441 frame saved ignored 1\n",
      "Total No Frames: 880. 879 frame saved ignored 1\n",
      "Total No Frames: 782. 781 frame saved ignored 1\n",
      "Total No Frames: 733. 732 frame saved ignored 1\n",
      "Total No Frames: 837. 836 frame saved ignored 1\n",
      "Total No Frames: 1286. 1285 frame saved ignored 1\n",
      "Total No Frames: 650. 649 frame saved ignored 1\n",
      "Total No Frames: 900. 899 frame saved ignored 1\n",
      "Total No Frames: 1621. 1620 frame saved ignored 1\n",
      "Total No Frames: 762. 761 frame saved ignored 1\n",
      "Total No Frames: 1409. 1408 frame saved ignored 1\n",
      "Total No Frames: 1041. 1040 frame saved ignored 1\n",
      "Total No Frames: 620. 619 frame saved ignored 1\n",
      "Total No Frames: 965. 964 frame saved ignored 1\n",
      "Total No Frames: 1741. 1740 frame saved ignored 1\n",
      "Total No Frames: 545. 544 frame saved ignored 1\n"
     ]
    }
   ],
   "source": [
    "for video in video_files:\n",
    "    extractImages(path_in=video, path_out=\"data\")"
   ],
   "metadata": {
    "collapsed": false
   }
  },
  {
   "cell_type": "code",
   "execution_count": null,
   "outputs": [],
   "source": [],
   "metadata": {
    "collapsed": false
   }
  }
 ],
 "metadata": {
  "kernelspec": {
   "display_name": "Python 3",
   "language": "python",
   "name": "python3"
  },
  "language_info": {
   "codemirror_mode": {
    "name": "ipython",
    "version": 2
   },
   "file_extension": ".py",
   "mimetype": "text/x-python",
   "name": "python",
   "nbconvert_exporter": "python",
   "pygments_lexer": "ipython2",
   "version": "2.7.6"
  }
 },
 "nbformat": 4,
 "nbformat_minor": 0
}
