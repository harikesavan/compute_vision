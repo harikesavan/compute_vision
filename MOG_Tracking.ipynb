{
 "cells": [
  {
   "cell_type": "code",
   "execution_count": 2,
   "id": "65d74afd",
   "metadata": {},
   "outputs": [],
   "source": [
    "import cv2\n",
    "\n",
    "# Create a VideoCapture object for the input video\n",
    "capture = cv2.VideoCapture(\"Video2.mp4\")\n",
    "\n",
    "# Check if the video was opened successfully\n",
    "if not capture.isOpened():\n",
    "    print(\"Error opening video file\")\n",
    "\n",
    "# Create a background subtractor object\n",
    "fgbg = cv2.createBackgroundSubtractorMOG2(history=10)\n",
    "\n",
    "# Set the threshold for the foreground mask\n",
    "threshold = 20\n",
    "\n",
    "# Define the frame width and height\n",
    "frame_width = int(capture.get(cv2.CAP_PROP_FRAME_WIDTH))\n",
    "frame_height = int(capture.get(cv2.CAP_PROP_FRAME_HEIGHT))\n",
    "\n",
    "# Define the codec and create a VideoWriter object for the output video\n",
    "fourcc = cv2.VideoWriter_fourcc(*'MJPG')\n",
    "writer = cv2.VideoWriter(\"MOG_Tracker.avi\", fourcc, 30.0, (frame_width, frame_height))\n",
    "\n",
    "# Read the frames from the video\n",
    "while capture.isOpened():\n",
    "    # Read the next frame\n",
    "    success, frame = capture.read()\n",
    "\n",
    "    # Check if the frame was read successfully\n",
    "    if not success:\n",
    "        break\n",
    "\n",
    "    # Apply the background subtractor to the frame\n",
    "    fgmask = fgbg.apply(frame)\n",
    "\n",
    "    # Threshold the foreground mask to create a binary mask\n",
    "    _, mask = cv2.threshold(fgmask, threshold, 255, cv2.THRESH_BINARY)\n",
    "\n",
    "    # Find the contours in the mask\n",
    "    contours, _ = cv2.findContours(mask, cv2.RETR_TREE, cv2.CHAIN_APPROX_SIMPLE)\n",
    "\n",
    "    # Iterate over the contours\n",
    "    for cnt in contours:\n",
    "        # Check if the contour area is above a certain threshold\n",
    "        area = cv2.contourArea(cnt)\n",
    "        if area > 13:\n",
    "            # Draw the contour in green on the frame\n",
    "            cv2.drawContours(frame, [cnt], -1, (0, 255, 0), 2)\n",
    "\n",
    "    # Write the frame to the output video\n",
    "    writer.write(frame)\n",
    "\n",
    "# Release the VideoCapture and VideoWriter objects\n",
    "capture.release()\n",
    "writer.release()"
   ]
  },
  {
   "cell_type": "code",
   "execution_count": null,
   "id": "fcb71810",
   "metadata": {},
   "outputs": [],
   "source": []
  }
 ],
 "metadata": {
  "kernelspec": {
   "display_name": "Python 3 (ipykernel)",
   "language": "python",
   "name": "python3"
  },
  "language_info": {
   "codemirror_mode": {
    "name": "ipython",
    "version": 3
   },
   "file_extension": ".py",
   "mimetype": "text/x-python",
   "name": "python",
   "nbconvert_exporter": "python",
   "pygments_lexer": "ipython3",
   "version": "3.9.12"
  }
 },
 "nbformat": 4,
 "nbformat_minor": 5
}
